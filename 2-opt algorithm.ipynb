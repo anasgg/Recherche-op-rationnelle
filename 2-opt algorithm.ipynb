{
 "cells": [
  {
   "cell_type": "code",
   "execution_count": 2,
   "id": "e7a34212",
   "metadata": {},
   "outputs": [],
   "source": [
    "import numpy as np\n",
    "import random\n"
   ]
  },
  {
   "cell_type": "code",
   "execution_count": 3,
   "id": "5fdfa419",
   "metadata": {},
   "outputs": [],
   "source": [
    "def distance(point1, point2):\n",
    "    return np.linalg.norm(point1 - point2)"
   ]
  },
  {
   "cell_type": "code",
   "execution_count": 4,
   "id": "c37f56f5",
   "metadata": {},
   "outputs": [],
   "source": [
    "def tour_cost(tour, distances):\n",
    "    cost = 0\n",
    "    num_points = len(tour)\n",
    "    for i in range(num_points):\n",
    "        cost += distances[tour[i]][tour[(i + 1) % num_points]]\n",
    "    return cost"
   ]
  },
  {
   "cell_type": "code",
   "execution_count": 18,
   "id": "92e81155",
   "metadata": {},
   "outputs": [],
   "source": [
    "import copy\n",
    "\n",
    "def two_opt(tour, distances):\n",
    "    num_points = len(tour)\n",
    "    improved = True\n",
    "    iteration = 0\n",
    "    while improved:\n",
    "        improved = False\n",
    "        best_cost = tour_cost(tour, distances)  \n",
    "        for i in range(num_points - 1):\n",
    "            for j in range(i + 1, num_points):\n",
    "                new_tour = copy.deepcopy(tour) \n",
    "               \n",
    "                temp = new_tour[i]\n",
    "                new_tour[i] = new_tour[j]\n",
    "                new_tour[j] = temp\n",
    "                new_cost = tour_cost(new_tour, distances)\n",
    "                if new_cost < best_cost:  \n",
    "                    best_tour = new_tour\n",
    "                    best_cost = new_cost\n",
    "                    improved = True\n",
    "        if improved:\n",
    "            tour = best_tour  \n",
    "            iteration += 1\n",
    "            print(f\"Iteration {iteration}: swaped numbers{}, Tournee optimisee: {tour}, Cout: {best_cost}\")\n",
    "    return tour\n"
   ]
  },
  {
   "cell_type": "code",
   "execution_count": 27,
   "id": "710f8fd8",
   "metadata": {
    "scrolled": false
   },
   "outputs": [
    {
     "name": "stdout",
     "output_type": "stream",
     "text": [
      "Iteration 1: Tournee optimisee: [0, 1, 2, 5, 4, 3, 6, 7, 8, 9], Cout: 99.6\n",
      "Iteration 2: Tournee optimisee: [1, 0, 2, 5, 4, 3, 6, 7, 8, 9], Cout: 97.7\n",
      "Iteration 3: Tournee optimisee: [1, 0, 2, 5, 4, 3, 6, 9, 8, 7], Cout: 95.99999999999999\n",
      "Iteration 4: Tournee optimisee: [1, 0, 2, 5, 4, 7, 6, 9, 8, 3], Cout: 93.80000000000001\n",
      "Iteration 5: Tournee optimisee: [1, 0, 2, 5, 4, 7, 8, 9, 6, 3], Cout: 89.80000000000001\n",
      "Iteration 6: Tournee optimisee: [1, 0, 2, 5, 4, 9, 8, 7, 6, 3], Cout: 85.4\n",
      "Iteration 7: Tournee optimisee: [1, 0, 2, 5, 8, 9, 4, 7, 6, 3], Cout: 82.30000000000001\n",
      "Iteration 8: Tournee optimisee: [1, 0, 2, 5, 9, 8, 4, 7, 6, 3], Cout: 81.30000000000001\n",
      "Tournée initiale: [0, 1, 2, 3, 4, 5, 6, 7, 8, 9]\n",
      "Coût de la tournée initiale: 106.69999999999999\n",
      "Tournée optimisée: [1, 0, 2, 5, 9, 8, 4, 7, 6, 3]\n",
      "Coût de la tournée optimisée: 81.30000000000001\n"
     ]
    }
   ],
   "source": [
    "def main():\n",
    "    \n",
    "    distances = np.array([\n",
    "    [0, 3.6, 5.1, 10, 15.3, 20, 16, 14.2, 23, 26.4],\n",
    "    [3.6, 0, 3.6, 6.4, 12.1, 18.1, 13.2, 10.6, 19.7, 23],\n",
    "    [5.1, 3.6, 0, 7.1, 10.6, 15, 15.8, 10.8, 18.4, 21.9],\n",
    "    [10, 6.4, 7.1, 0, 7, 15.7, 10, 4.2, 13.9, 17],\n",
    "    [15.3, 12.1, 10.6, 7, 0, 9.9, 15.3, 5, 7.3, 11.3],\n",
    "    [20, 18.1, 15, 15.7, 9.9, 0, 25, 14.9, 12, 15],\n",
    "    [16, 13.2, 15.8, 10, 15.3, 25, 0, 10.3, 19.2, 21],\n",
    "    [14.2, 10.6, 10.8, 4.2, 5, 14.9, 10.3, 0, 10.2, 13],\n",
    "    [23, 19.7, 18.4, 13.9, 7.3, 12, 19.2, 10.2, 0, 3.6],\n",
    "    [26.4, 23, 21.9, 17, 11.3, 15, 21, 13, 3.6, 0]\n",
    "])\n",
    "\n",
    "\n",
    "    num_points = len(distances)\n",
    "    tour = list(range(num_points))\n",
    "    \n",
    "    tour_optimized = two_opt(tour, distances)\n",
    "\n",
    "   \n",
    "    print(\"Tournée initiale:\", tour)\n",
    "    print(\"Coût de la tournée initiale:\", tour_cost(tour, distances))\n",
    "    print(\"Tournée optimisée:\", tour_optimized)\n",
    "    print(\"Coût de la tournée optimisée:\", tour_cost(tour_optimized, distances))\n",
    "if __name__ == \"__main__\":\n",
    "    main()"
   ]
  },
  {
   "cell_type": "code",
   "execution_count": 32,
   "id": "70951168",
   "metadata": {
    "scrolled": true
   },
   "outputs": [
    {
     "name": "stdout",
     "output_type": "stream",
     "text": [
      "[0.0, 177.00930505299073, 550.6756485857563, 717.7572401780584, 981.2244131046738, 614.9303267391738, 455.23472646450375, 83.653136907151, 137.85112878504717, 345.4820519049488, 136.63108915186683, 564.0865090744943, 344.5888563939111, 434.50852393398975]\n",
      "[177.00930505299073, 0.0, 449.72498745704405, 667.7563963302894, 1016.4766706167635, 637.6930185413222, 521.3722046905211, 212.96808513391375, 314.2027032839814, 477.72517065506946, 313.5189192054406, 574.3931169268237, 433.3915253929247, 402.6930792244351]\n",
      "[550.6756485857563, 449.72498745704405, 0.0, 269.82516589049465, 747.657236558306, 421.6269213728569, 469.1638531362368, 509.23408801515, 662.466451574661, 895.7878087096938, 646.2418762206175, 354.6570828741563, 486.2580691078525, 209.90139042464318]\n",
      "[717.7572401780584, 667.7563963302894, 269.82516589049465, 0.0, 504.6431444950227, 279.304234581429, 433.921938490191, 652.9071154636789, 797.0792892561117, 1054.0878754607083, 775.3182701068124, 248.54462727441017, 512.1520279707297, 283.47979174611856]\n",
      "[981.2244131046738, 1016.4766706167635, 747.657236558306, 504.6431444950227, 0.0, 379.06306463755874, 529.7672832772582, 898.2963942383034, 993.0770694664826, 1246.55562721185, 967.5048967013399, 445.5682060089212, 647.2532549612034, 634.6416269027135]\n",
      "[614.9303267391738, 637.6930185413222, 421.6269213728569, 279.304234581429, 379.06306463755874, 0.0, 197.6111033062447, 534.3269365993774, 649.0085461612814, 910.6375168088861, 624.0363414603995, 71.45236388442851, 309.1228036951655, 263.3155473015717]\n",
      "[455.23472646450375, 521.3722046905211, 469.1638531362368, 433.921938490191, 529.7672832772582, 197.6111033062447, 0.0, 371.63203181198725, 465.23536167251507, 723.3517081030299, 439.7487352570391, 188.86169481348352, 118.4261090045512, 261.06491759710457]\n",
      "[83.653136907151, 212.96808513391375, 509.23408801515, 652.9071154636789, 898.2963942383034, 534.3269365993774, 371.63203181198725, 0.0, 153.24696865057092, 401.34240338932335, 137.85395761683517, 485.9392355913074, 261.2487216069049, 369.9542822524921]\n",
      "[137.85112878504717, 314.2027032839814, 662.466451574661, 797.0792892561117, 993.0770694664826, 649.0085461612814, 465.23536167251507, 153.24696865057092, 0.0, 262.48825579261194, 25.574833128248684, 610.1883568801294, 346.82669424197894, 516.6495853678402]\n",
      "[345.4820519049488, 477.72517065506946, 895.7878087096938, 1054.0878754607083, 1246.55562721185, 910.6375168088861, 723.3517081030299, 401.34240338932335, 262.48825579261194, 0.0, 286.9566416093497, 872.676603010018, 605.2482873753345, 771.2966181720025]\n",
      "[136.63108915186683, 313.5189192054406, 646.2418762206175, 775.3182701068124, 967.5048967013399, 624.0363414603995, 439.7487352570391, 137.85395761683517, 25.574833128248684, 286.9566416093497, 0.0, 585.8742429353139, 321.3309314050862, 495.8948190412789]\n",
      "[564.0865090744943, 574.3931169268237, 354.6570828741563, 248.54462727441017, 445.5682060089212, 71.45236388442851, 188.86169481348352, 485.9392355913074, 610.1883568801294, 872.676603010018, 585.8742429353139, 0.0, 284.2207471373274, 192.27313262467135]\n",
      "[344.5888563939111, 433.3915253929247, 486.2580691078525, 512.1520279707297, 647.2532549612034, 309.1228036951655, 118.4261090045512, 261.2487216069049, 346.82669424197894, 605.2482873753345, 321.3309314050862, 284.2207471373274, 0.0, 280.3901106548038]\n",
      "[434.50852393398975, 402.6930792244351, 209.90139042464318, 283.47979174611856, 634.6416269027135, 263.3155473015717, 261.06491759710457, 369.9542822524921, 516.6495853678402, 771.2966181720025, 495.8948190412789, 192.27313262467135, 280.3901106548038, 0.0]\n"
     ]
    }
   ],
   "source": [
    "from math import radians, sin, cos, sqrt, atan2\n",
    "\n",
    "def haversine_distance(coord1, coord2):\n",
    "    # Radius of the Earth in kilometers\n",
    "    R = 6371.0\n",
    "    \n",
    "    lat1, lon1 = coord1\n",
    "    lat2, lon2 = coord2\n",
    "    \n",
    "    # Convert latitude and longitude from degrees to radians\n",
    "    lat1, lon1, lat2, lon2 = map(radians, [lat1, lon1, lat2, lon2])\n",
    "    \n",
    "    # Haversine formula\n",
    "    dlon = lon2 - lon1\n",
    "    dlat = lat2 - lat1\n",
    "    a = sin(dlat / 2)**2 + cos(lat1) * cos(lat2) * sin(dlon / 2)**2\n",
    "    c = 2 * atan2(sqrt(a), sqrt(1 - a))\n",
    "    distance = R * c\n",
    "    \n",
    "    return distance\n",
    "\n",
    "def geographic_distance_matrix(coordinates):\n",
    "    num_points = len(coordinates)\n",
    "    distance_matrix = [[0.0] * num_points for _ in range(num_points)]\n",
    "    \n",
    "    for i in range(num_points):\n",
    "        for j in range(num_points):\n",
    "            distance_matrix[i][j] = haversine_distance(coordinates[i], coordinates[j])\n",
    "    \n",
    "    return distance_matrix\n",
    "\n",
    "# Example coordinates\n",
    "coordinates = [\n",
    "    (16.47, 96.10),\n",
    "    (16.47, 94.44),\n",
    "    (20.09, 92.54),\n",
    "    (22.39, 93.37),\n",
    "    (25.23, 97.24),\n",
    "    (22.00, 96.05),\n",
    "    (20.47, 97.02),\n",
    "    (17.20, 96.29),\n",
    "    (16.30, 97.38),\n",
    "    (14.05, 98.12),\n",
    "    (16.53, 97.38),\n",
    "    (21.52, 95.59),\n",
    "    (19.41, 97.13),\n",
    "    (20.09, 94.55)\n",
    "]\n",
    "\n",
    "# Calculate geographic distance matrix\n",
    "distance_matrix = geographic_distance_matrix(coordinates)\n",
    "\n",
    "# Print distance matrix\n",
    "for row in distance_matrix:\n",
    "    print(row)\n"
   ]
  },
  {
   "cell_type": "code",
   "execution_count": 33,
   "id": "aeed972f",
   "metadata": {},
   "outputs": [
    {
     "name": "stdout",
     "output_type": "stream",
     "text": [
      "Iteration 1: Tournee optimisee: [0, 1, 2, 3, 4, 5, 6, 7, 8, 9, 10, 12, 11, 13], Cout: 4284.53400380495\n",
      "Iteration 2: Tournee optimisee: [0, 1, 2, 3, 4, 5, 11, 7, 8, 9, 10, 12, 6, 13], Cout: 4175.679615002111\n",
      "Iteration 3: Tournee optimisee: [0, 1, 2, 3, 4, 5, 11, 13, 8, 9, 10, 12, 6, 7], Cout: 4005.1278559407883\n",
      "Iteration 4: Tournee optimisee: [0, 1, 2, 3, 4, 5, 11, 13, 9, 8, 10, 12, 6, 7], Cout: 3998.3930802638497\n",
      "Tournée initiale: [0, 1, 2, 3, 4, 5, 6, 7, 8, 9, 10, 11, 12, 13]\n",
      "Coût de la tournée initiale: 4637.19429336531\n",
      "Tournée optimisée: [0, 1, 2, 3, 4, 5, 11, 13, 9, 8, 10, 12, 6, 7]\n",
      "Coût de la tournée optimisée: 3998.3930802638497\n"
     ]
    }
   ],
   "source": [
    "def main():\n",
    "    \n",
    "    num_points = len(distance_matrix)\n",
    "    tour = list(range(num_points))\n",
    "    \n",
    "    tour_optimized = two_opt(tour,distance_matrix)\n",
    "\n",
    "   \n",
    "    print(\"Tournée initiale:\", tour)\n",
    "    print(\"Coût de la tournée initiale:\", tour_cost(tour, distance_matrix))\n",
    "    print(\"Tournée optimisée:\", tour_optimized)\n",
    "    print(\"Coût de la tournée optimisée:\", tour_cost(tour_optimized, distance_matrix))\n",
    "if __name__ == \"__main__\":\n",
    "    main()"
   ]
  }
 ],
 "metadata": {
  "kernelspec": {
   "display_name": "Python 3 (ipykernel)",
   "language": "python",
   "name": "python3"
  },
  "language_info": {
   "codemirror_mode": {
    "name": "ipython",
    "version": 3
   },
   "file_extension": ".py",
   "mimetype": "text/x-python",
   "name": "python",
   "nbconvert_exporter": "python",
   "pygments_lexer": "ipython3",
   "version": "3.9.12"
  }
 },
 "nbformat": 4,
 "nbformat_minor": 5
}
